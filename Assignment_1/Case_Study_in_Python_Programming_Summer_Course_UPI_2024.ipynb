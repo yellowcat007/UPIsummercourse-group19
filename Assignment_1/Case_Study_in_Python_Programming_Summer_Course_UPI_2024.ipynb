{
  "nbformat": 4,
  "nbformat_minor": 0,
  "metadata": {
    "colab": {
      "provenance": []
    },
    "kernelspec": {
      "name": "python3",
      "display_name": "Python 3"
    },
    "language_info": {
      "name": "python"
    }
  },
  "cells": [
    {
      "cell_type": "markdown",
      "source": [
        "## Team 19\n",
        "1. Josetian Halim Maha Budi - Universitas Negeri Semarang (Group Leader)\n",
        "2. Muhammad Yusuf Bahtiar - Universitas Pendidikan Indonesia (Group Member)\n",
        "3. Talitha Fayarina Adhigunawan - Universitas Pendidikan Indonesia (Group Member)\n",
        "4. Noor Shazreen binti Mortadza - Universitas Sebelas Maret (Group Member)\n",
        "5. Imelda Pangaribuan - Universiti Malaysia Terengganu (Group Member)\n",
        "6. Raden Fadhil Anugerah Ardiwilaga - Universitas Pendidikan Indonesia (Group Member)\n",
        "7. Mochamad Khaairi - Universitas Pendidikan Indonesia (Group Member)"
      ],
      "metadata": {
        "id": "PQi6vZcfrpIr"
      }
    },
    {
      "cell_type": "markdown",
      "source": [
        "# Case Study 1"
      ],
      "metadata": {
        "id": "5yeeo7KzgJRF"
      }
    },
    {
      "cell_type": "code",
      "execution_count": null,
      "metadata": {
        "colab": {
          "base_uri": "https://localhost:8080/"
        },
        "id": "a1D8sANbgHia",
        "outputId": "7ddd450d-998c-419a-e671-07a3adc5f43d"
      },
      "outputs": [
        {
          "output_type": "stream",
          "name": "stdout",
          "text": [
            "Enter gallons used (-1 to end): 12.8\n",
            "Enter miles driven:287\n",
            "The miles/gallon for this tank was 22.421875\n",
            "Enter gallons used (-1 to end): 10.3\n",
            "Enter miles driven:200\n",
            "The miles/gallon for this tank was 19.417476\n",
            "Enter gallons used (-1 to end): 5\n",
            "Enter miles driven:120\n",
            "The miles/gallon for this tank was 24.000000\n",
            "Enter gallons used (-1 to end): -1\n",
            "The overall average miles/gallon was 21.601423\n"
          ]
        }
      ],
      "source": [
        "# Initialize variables to store gallon and mile values\n",
        "gallons = 0\n",
        "driven = 0\n",
        "# Initialize variables to store total gallons and miles\n",
        "total_gallon = 0\n",
        "total_driven = 0\n",
        "\n",
        "# Start a loop that will continue until the user enters -1 for gallons\n",
        "while gallons != -1:\n",
        "    # Receive input from the user for the number of gallons used\n",
        "    gallons = float(input(\"Enter gallons used (-1 to end): \"))\n",
        "\n",
        "    # Check if the input gallons is not -1 to continue the process\n",
        "    if gallons != -1:\n",
        "        # Receive input from the user for the number of miles driven\n",
        "        driven = float(input(\"Enter miles driven:\"))\n",
        "\n",
        "        # Add the used gallons to the total gallons\n",
        "        total_gallon += gallons\n",
        "\n",
        "        # Add the driven miles to the total miles\n",
        "        total_driven += driven\n",
        "\n",
        "        # Calculate and print the miles per gallon\n",
        "        print(\"The miles/gallon for this tank was {:.6f}\".format(driven / gallons))\n",
        "\n",
        "# After the loop is finished, calculate and print the overall average miles per gallon\n",
        "print(\"The overall average miles/gallon was {:.6f}\".format(total_driven / total_gallon))"
      ]
    },
    {
      "cell_type": "markdown",
      "source": [
        "# Case Study 2"
      ],
      "metadata": {
        "id": "4TVZxK7Diz6I"
      }
    },
    {
      "cell_type": "code",
      "source": [
        "import random\n",
        "\n",
        "# Initialize variables\n",
        "# variabel for sum of two dice\n",
        "sum = 0\n",
        "# sign for first roll\n",
        "first = 0\n",
        "point = 0\n",
        "# sign for end (either win or lose)\n",
        "flag = 0\n",
        "\n",
        "# Start a loop that will continue until the flag is set to 1\n",
        "while flag != 1:\n",
        "    # Roll two dice\n",
        "    dice1 = random.randint(1, 6)\n",
        "    dice2 = random.randint(1, 6)\n",
        "\n",
        "    # Wait for the user to press Enter to continue\n",
        "    input(\"Press enter to continue\")\n",
        "\n",
        "    # Calculate the sum of the two dice\n",
        "    sum = dice1 + dice2\n",
        "\n",
        "    # Print the results of the dice rolls and their sum\n",
        "    print(\"First dice is {} and second dice is {}\".format(dice1, dice2))\n",
        "    print(\"Sum is {}\".format(sum))\n",
        "\n",
        "    # Check the win/lose conditions on the first roll\n",
        "    if (sum == 7 or sum == 11) and first == 0:\n",
        "        print(\"==Player wins==\")\n",
        "        flag = 1\n",
        "    elif (sum == 2 or sum == 3 or sum == 12) and first == 0:\n",
        "        print(\"==Craps==\")\n",
        "        flag = 1\n",
        "    else:\n",
        "        # Check win/lose conditions on subsequent rolls\n",
        "        if sum == point:\n",
        "            print(\"==Player reaches points==\")\n",
        "            flag = 1\n",
        "        elif sum == 7:\n",
        "            print(\"==Player loses==\")\n",
        "            flag = 1\n",
        "        else:\n",
        "            # Set the point and mark the first roll as complete\n",
        "            point = sum\n",
        "            first = 1\n",
        "            print(\"Your current point is {}\".format(point))\n",
        "            print()\n"
      ],
      "metadata": {
        "colab": {
          "base_uri": "https://localhost:8080/"
        },
        "id": "220QiTqRizcA",
        "outputId": "e836a692-db96-404a-bd4a-5546a5af7a71"
      },
      "execution_count": null,
      "outputs": [
        {
          "output_type": "stream",
          "name": "stdout",
          "text": [
            "Press enter to continue\n",
            "First dice is 2 and second dice is 4\n",
            "Sum is 6\n",
            "Your current point is 6\n",
            "\n",
            "Press enter to continue\n",
            "First dice is 1 and second dice is 5\n",
            "Sum is 6\n",
            "==Player reaches points==\n"
          ]
        }
      ]
    },
    {
      "cell_type": "markdown",
      "source": [
        "# Case Study 3"
      ],
      "metadata": {
        "id": "IHljyTFBnE5x"
      }
    },
    {
      "cell_type": "code",
      "source": [
        "# import statistics library\n",
        "import statistics\n",
        "\n",
        "# data list\n",
        "list = [174, 335, 278, 214, 422, 513, 737, 672, 489, 412, 1301, 1105, 1123, 1376, 1502, 894, 665, 1704, 1656, 1342]\n",
        "\n",
        "# use of function in statistics library\n",
        "print(\"Minimum: {}\".format(min(list)))\n",
        "print(\"Maximum: {}\".format(max(list)))\n",
        "print(\"Range: {}\".format(max(list) - min(list)))\n",
        "print(\"Mean: {}\".format(statistics.mean(list)))\n",
        "print(\"Median: {}\".format(statistics.median(list)))\n",
        "print(\"Mode: {}\".format(statistics.mode(list)))\n",
        "print(\"Variance: {}\".format(statistics.variance(list)))\n",
        "print(\"Standard Deviation: {}\".format(statistics.stdev(list)))"
      ],
      "metadata": {
        "colab": {
          "base_uri": "https://localhost:8080/"
        },
        "id": "6p_K3XEBm-74",
        "outputId": "04d73c8a-b8eb-4753-a482-b7e8d0a022ef"
      },
      "execution_count": null,
      "outputs": [
        {
          "output_type": "stream",
          "name": "stdout",
          "text": [
            "Minimum: 174\n",
            "Maximum: 1704\n",
            "Range: 1530\n",
            "Mean: 845.7\n",
            "Median: 704.5\n",
            "Mode: 174\n",
            "Variance: 253620.74736842106\n",
            "Standard Deviation: 503.60773164082883\n"
          ]
        }
      ]
    }
  ]
}